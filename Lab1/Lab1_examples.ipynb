{
 "cells": [
  {
   "cell_type": "code",
   "execution_count": 1,
   "id": "d3ab3e6d-92e2-4afa-9871-57beb2ebae08",
   "metadata": {},
   "outputs": [
    {
     "data": {
      "text/plain": [
       "'2.5.1+cpu'"
      ]
     },
     "execution_count": 1,
     "metadata": {},
     "output_type": "execute_result"
    }
   ],
   "source": [
    "import torch \n",
    "torch.__version__ "
   ]
  },
  {
   "cell_type": "markdown",
   "id": "25fcf69c-bd90-49dc-907e-b3b802ca4768",
   "metadata": {},
   "source": [
    "# Introduction to tensors"
   ]
  },
  {
   "cell_type": "markdown",
   "id": "5f0721cb-34fc-489b-9fd9-5fdde935e691",
   "metadata": {},
   "source": [
    "##  • Creating Tensors"
   ]
  },
  {
   "cell_type": "code",
   "execution_count": 2,
   "id": "9617d0b8-61e0-44c5-8be0-8cf0af8c9279",
   "metadata": {},
   "outputs": [
    {
     "data": {
      "text/plain": [
       "tensor(7)"
      ]
     },
     "execution_count": 2,
     "metadata": {},
     "output_type": "execute_result"
    }
   ],
   "source": [
    "# Scalar \n",
    "scalar = torch.tensor(7) \n",
    "scalar"
   ]
  },
  {
   "cell_type": "code",
   "execution_count": 3,
   "id": "b1ecbb90-d716-429e-ad13-e0b3e55dd4c7",
   "metadata": {},
   "outputs": [
    {
     "data": {
      "text/plain": [
       "7"
      ]
     },
     "execution_count": 3,
     "metadata": {},
     "output_type": "execute_result"
    }
   ],
   "source": [
    "# Get the Python number within a tensor (only works with one-element tensors) \n",
    "scalar.item()"
   ]
  },
  {
   "cell_type": "code",
   "execution_count": 4,
   "id": "bf3374f0-f033-496e-b129-c574e2e1f4c8",
   "metadata": {},
   "outputs": [
    {
     "data": {
      "text/plain": [
       "tensor([7, 7])"
      ]
     },
     "execution_count": 4,
     "metadata": {},
     "output_type": "execute_result"
    }
   ],
   "source": [
    "# Vector \n",
    "vector = torch.tensor([7, 7]) \n",
    "vector "
   ]
  },
  {
   "cell_type": "code",
   "execution_count": 5,
   "id": "bcf34ee8-bc5d-4589-b72e-6422f3c0c16f",
   "metadata": {},
   "outputs": [
    {
     "data": {
      "text/plain": [
       "tensor([[ 7,  8],\n",
       "        [ 9, 10]])"
      ]
     },
     "execution_count": 5,
     "metadata": {},
     "output_type": "execute_result"
    }
   ],
   "source": [
    "# Matrix \n",
    "MATRIX = torch.tensor([[7, 8],  \n",
    "[9, 10]]) \n",
    "MATRIX"
   ]
  },
  {
   "cell_type": "code",
   "execution_count": 6,
   "id": "a79d4187-1bd5-4849-8acf-ec9b0a47b568",
   "metadata": {},
   "outputs": [
    {
     "data": {
      "text/plain": [
       "torch.Size([2, 2])"
      ]
     },
     "execution_count": 6,
     "metadata": {},
     "output_type": "execute_result"
    }
   ],
   "source": [
    "MATRIX.shape"
   ]
  },
  {
   "cell_type": "code",
   "execution_count": 7,
   "id": "10268d4d-d02f-4af4-8d2d-695f1a9d1058",
   "metadata": {},
   "outputs": [
    {
     "data": {
      "text/plain": [
       "tensor([[[1, 2, 3],\n",
       "         [3, 6, 9],\n",
       "         [2, 4, 5]]])"
      ]
     },
     "execution_count": 7,
     "metadata": {},
     "output_type": "execute_result"
    }
   ],
   "source": [
    "# Tensor \n",
    "TENSOR = torch.tensor([[[1, 2, 3], \n",
    "[3, 6, 9], \n",
    "[2, 4, 5]]]) \n",
    "TENSOR"
   ]
  },
  {
   "cell_type": "code",
   "execution_count": 8,
   "id": "de9ce1cf-977f-450a-81f2-fdda128c4187",
   "metadata": {},
   "outputs": [
    {
     "data": {
      "text/plain": [
       "3"
      ]
     },
     "execution_count": 8,
     "metadata": {},
     "output_type": "execute_result"
    }
   ],
   "source": [
    "# Check number of dimensions for TENSOR \n",
    "TENSOR.ndim"
   ]
  },
  {
   "cell_type": "markdown",
   "id": "094bdb2e-6b36-40a7-b39d-f33a720b8b97",
   "metadata": {},
   "source": [
    "## • Random Tensors"
   ]
  },
  {
   "cell_type": "code",
   "execution_count": 9,
   "id": "abeeae00-42a9-4918-a96a-99bf4e295164",
   "metadata": {},
   "outputs": [
    {
     "data": {
      "text/plain": [
       "(tensor([[0.8383, 0.5460, 0.7696, 0.6425],\n",
       "         [0.2521, 0.6752, 0.0970, 0.9256],\n",
       "         [0.9396, 0.2222, 0.6581, 0.7591]]),\n",
       " torch.float32)"
      ]
     },
     "execution_count": 9,
     "metadata": {},
     "output_type": "execute_result"
    }
   ],
   "source": [
    "# Create a random tensor of size (3, 4) \n",
    "random_tensor = torch.rand(size=(3, 4)) \n",
    "random_tensor, random_tensor.dtype "
   ]
  },
  {
   "cell_type": "code",
   "execution_count": 10,
   "id": "46a2a578-bf99-4e74-b79d-fe6cc397aaed",
   "metadata": {},
   "outputs": [
    {
     "data": {
      "text/plain": [
       "(torch.Size([224, 224, 3]), 3)"
      ]
     },
     "execution_count": 10,
     "metadata": {},
     "output_type": "execute_result"
    }
   ],
   "source": [
    "# Create a random tensor of size (224, 224, 3) \n",
    "random_image_size_tensor = torch.rand(size=(224, 224, 3)) \n",
    "random_image_size_tensor.shape, random_image_size_tensor.ndim "
   ]
  },
  {
   "cell_type": "markdown",
   "id": "2450e166-09e5-4413-abd7-e9be2e201720",
   "metadata": {},
   "source": [
    "## • Zeros and ones"
   ]
  },
  {
   "cell_type": "code",
   "execution_count": 11,
   "id": "0d388169-00d2-4f79-beef-c6f1aac3e4f2",
   "metadata": {},
   "outputs": [
    {
     "data": {
      "text/plain": [
       "(tensor([[0., 0., 0., 0.],\n",
       "         [0., 0., 0., 0.],\n",
       "         [0., 0., 0., 0.]]),\n",
       " torch.float32)"
      ]
     },
     "execution_count": 11,
     "metadata": {},
     "output_type": "execute_result"
    }
   ],
   "source": [
    "# Create a tensor of all zeros \n",
    "zeros = torch.zeros(size=(3, 4)) \n",
    "zeros, zeros.dtype"
   ]
  },
  {
   "cell_type": "code",
   "execution_count": 12,
   "id": "87cf9f66-a325-4b9a-b43b-df65ff8abf23",
   "metadata": {},
   "outputs": [
    {
     "data": {
      "text/plain": [
       "(tensor([[1., 1., 1., 1.],\n",
       "         [1., 1., 1., 1.],\n",
       "         [1., 1., 1., 1.]]),\n",
       " torch.float32)"
      ]
     },
     "execution_count": 12,
     "metadata": {},
     "output_type": "execute_result"
    }
   ],
   "source": [
    "# Create a tensor of all ones \n",
    "ones = torch.ones(size=(3, 4)) \n",
    "ones, ones.dtype"
   ]
  },
  {
   "cell_type": "markdown",
   "id": "2df41feb-e2da-4e53-ae01-6df020fb49f4",
   "metadata": {},
   "source": [
    "## • Range in Tensors"
   ]
  },
  {
   "cell_type": "code",
   "execution_count": 13,
   "id": "0bd0d819-a4b4-4956-9c08-258146d8198f",
   "metadata": {},
   "outputs": [
    {
     "name": "stderr",
     "output_type": "stream",
     "text": [
      "C:\\Users\\YASH SRIVASTAVA\\AppData\\Local\\Temp\\ipykernel_55084\\1962218769.py:2: UserWarning: torch.range is deprecated and will be removed in a future release because its behavior is inconsistent with Python's range builtin. Instead, use torch.arange, which produces values in [start, end).\n",
      "  zero_to_ten_deprecated = torch.range(0, 10) # Note: this may return an error in the future\n"
     ]
    },
    {
     "data": {
      "text/plain": [
       "tensor([0, 1, 2, 3, 4, 5, 6, 7, 8, 9])"
      ]
     },
     "execution_count": 13,
     "metadata": {},
     "output_type": "execute_result"
    }
   ],
   "source": [
    "# Use torch.arange(), torch.range() is deprecated  \n",
    "zero_to_ten_deprecated = torch.range(0, 10) # Note: this may return an error in the future \n",
    "# Create a range of values 0 to 10 \n",
    "zero_to_ten = torch.arange(start=0, end=10, step=1) \n",
    "zero_to_ten"
   ]
  },
  {
   "cell_type": "code",
   "execution_count": 14,
   "id": "2f8eaebc-7d8f-4501-abbc-04632e7aa6e0",
   "metadata": {},
   "outputs": [
    {
     "data": {
      "text/plain": [
       "tensor([0, 0, 0, 0, 0, 0, 0, 0, 0, 0])"
      ]
     },
     "execution_count": 14,
     "metadata": {},
     "output_type": "execute_result"
    }
   ],
   "source": [
    "# Can also create a tensor of zeros similar to another tensor \n",
    "ten_zeros = torch.zeros_like(input=zero_to_ten) # will have same shape \n",
    "ten_zeros"
   ]
  },
  {
   "cell_type": "markdown",
   "id": "1307072e-464a-4d4d-b7c6-bd694a89b8de",
   "metadata": {},
   "source": [
    "## • Tensor Data Type"
   ]
  },
  {
   "cell_type": "code",
   "execution_count": 15,
   "id": "a0427c16-c7e6-4a34-bd01-21274af8c45b",
   "metadata": {},
   "outputs": [
    {
     "name": "stdout",
     "output_type": "stream",
     "text": [
      "tensor([[0.9833, 0.2081, 0.6234, 0.8104],\n",
      "        [0.2974, 0.0852, 0.2029, 0.7024],\n",
      "        [0.7829, 0.1908, 0.0543, 0.3999]])\n",
      "Shape of tensor: torch.Size([3, 4])\n",
      "Datatype of tensor: torch.float32\n",
      "Device tensor is stored on: cpu\n"
     ]
    }
   ],
   "source": [
    " \n",
    "# Create a tensor \n",
    "some_tensor = torch.rand(3, 4) \n",
    " \n",
    "# Find out details about it \n",
    "print(some_tensor) \n",
    "print(f\"Shape of tensor: {some_tensor.shape}\") \n",
    "print(f\"Datatype of tensor: {some_tensor.dtype}\") \n",
    "print(f\"Device tensor is stored on: {some_tensor.device}\") # will default to CPU"
   ]
  },
  {
   "cell_type": "markdown",
   "id": "a2d01829-52ab-4139-bc2d-8959779b6a11",
   "metadata": {},
   "source": [
    "# Manipulating Tensors (Tensor Operations)"
   ]
  },
  {
   "cell_type": "markdown",
   "id": "515713b0-04ee-42cb-849f-ab87e101ccef",
   "metadata": {},
   "source": [
    "## • Basic Operations"
   ]
  },
  {
   "cell_type": "code",
   "execution_count": 16,
   "id": "d62a6490-f9e0-4823-9754-d9e2924452ce",
   "metadata": {},
   "outputs": [
    {
     "data": {
      "text/plain": [
       "tensor([11, 12, 13])"
      ]
     },
     "execution_count": 16,
     "metadata": {},
     "output_type": "execute_result"
    }
   ],
   "source": [
    "# Create a tensor of values and add a number to it \n",
    "tensor = torch.tensor([1, 2, 3]) \n",
    "tensor + 10 "
   ]
  },
  {
   "cell_type": "code",
   "execution_count": 17,
   "id": "e0b2f8aa-fe85-4f6d-99ec-3d5ea1cfa985",
   "metadata": {},
   "outputs": [
    {
     "data": {
      "text/plain": [
       "tensor([10, 20, 30])"
      ]
     },
     "execution_count": 17,
     "metadata": {},
     "output_type": "execute_result"
    }
   ],
   "source": [
    "# Multiply it by 10 \n",
    "tensor * 10"
   ]
  },
  {
   "cell_type": "markdown",
   "id": "e4106a14-d077-49e7-9856-6265f1773ba4",
   "metadata": {},
   "source": [
    "Notice how the tensor values above didn't end up being tensor([110, 120, 130]), this is because the values inside the tensor don't change unless \n",
    "they're reassigned. "
   ]
  },
  {
   "cell_type": "code",
   "execution_count": 18,
   "id": "d5cba0ad-0e5b-48f2-850a-ceccd3c51f65",
   "metadata": {},
   "outputs": [
    {
     "data": {
      "text/plain": [
       "tensor([1, 2, 3])"
      ]
     },
     "execution_count": 18,
     "metadata": {},
     "output_type": "execute_result"
    }
   ],
   "source": [
    "# Tensors don't change unless reassigned \n",
    "tensor "
   ]
  },
  {
   "cell_type": "code",
   "execution_count": 19,
   "id": "d7654217-2273-46ae-be64-d81d010b0920",
   "metadata": {},
   "outputs": [
    {
     "data": {
      "text/plain": [
       "tensor([-9, -8, -7])"
      ]
     },
     "execution_count": 19,
     "metadata": {},
     "output_type": "execute_result"
    }
   ],
   "source": [
    "# Let's subtract a number and this time we'll reassign the tensor variable. \n",
    "# Subtract and reassign \n",
    "tensor = tensor - 10 \n",
    "tensor "
   ]
  },
  {
   "cell_type": "code",
   "execution_count": 20,
   "id": "40be3660-4f87-4fec-8558-cea45b14146b",
   "metadata": {},
   "outputs": [
    {
     "data": {
      "text/plain": [
       "tensor([1, 2, 3])"
      ]
     },
     "execution_count": 20,
     "metadata": {},
     "output_type": "execute_result"
    }
   ],
   "source": [
    "# Add and reassign \n",
    "tensor = tensor + 10 \n",
    "tensor"
   ]
  },
  {
   "cell_type": "code",
   "execution_count": 21,
   "id": "c704f0a8-4744-4fc0-9505-bba4a9fbdea6",
   "metadata": {},
   "outputs": [
    {
     "data": {
      "text/plain": [
       "tensor([10, 20, 30])"
      ]
     },
     "execution_count": 21,
     "metadata": {},
     "output_type": "execute_result"
    }
   ],
   "source": [
    "# PyTorch also has a bunch of built-in functions like torch.mul() (short for multiplcation) and torch.add() to perform basic operations. \n",
    "# Can also use torch functions \n",
    "torch.multiply(tensor, 10) "
   ]
  },
  {
   "cell_type": "code",
   "execution_count": 22,
   "id": "d28569ab-e843-4245-8bc3-18d3847d52b2",
   "metadata": {},
   "outputs": [
    {
     "data": {
      "text/plain": [
       "tensor([1, 2, 3])"
      ]
     },
     "execution_count": 22,
     "metadata": {},
     "output_type": "execute_result"
    }
   ],
   "source": [
    "# Original tensor is still unchanged  \n",
    "tensor"
   ]
  },
  {
   "cell_type": "code",
   "execution_count": 23,
   "id": "488fd81e-97c3-4e3b-8a19-c124acc8ff4c",
   "metadata": {},
   "outputs": [
    {
     "name": "stdout",
     "output_type": "stream",
     "text": [
      "tensor([1, 2, 3]) * tensor([1, 2, 3])\n",
      "Equals: tensor([1, 4, 9])\n"
     ]
    }
   ],
   "source": [
    "# Element-wise multiplication (each element multiplies its equivalent, index 0->0, 1->1, 2->2) \n",
    "print(tensor, \"*\", tensor) \n",
    "print(\"Equals:\", tensor * tensor)"
   ]
  },
  {
   "cell_type": "markdown",
   "id": "2a04fd9e-6861-47d7-b935-b1957a772030",
   "metadata": {},
   "source": [
    "## • Matrix Multiplication"
   ]
  },
  {
   "cell_type": "code",
   "execution_count": 24,
   "id": "2380f1e5-ccac-48a0-be96-f441016d854c",
   "metadata": {},
   "outputs": [
    {
     "data": {
      "text/plain": [
       "torch.Size([3])"
      ]
     },
     "execution_count": 24,
     "metadata": {},
     "output_type": "execute_result"
    }
   ],
   "source": [
    "tensor = torch.tensor([1, 2, 3]) \n",
    "tensor.shape"
   ]
  },
  {
   "cell_type": "code",
   "execution_count": 25,
   "id": "ed0df1cf-c6a5-474a-9488-6cc8d180292a",
   "metadata": {},
   "outputs": [
    {
     "data": {
      "text/plain": [
       "tensor([1, 4, 9])"
      ]
     },
     "execution_count": 25,
     "metadata": {},
     "output_type": "execute_result"
    }
   ],
   "source": [
    "# Element-wise matrix multiplication \n",
    "tensor * tensor"
   ]
  },
  {
   "cell_type": "code",
   "execution_count": 27,
   "id": "1c38563a-c5c0-4691-aaa2-64fc9ee5084c",
   "metadata": {},
   "outputs": [
    {
     "data": {
      "text/plain": [
       "tensor(14)"
      ]
     },
     "execution_count": 27,
     "metadata": {},
     "output_type": "execute_result"
    }
   ],
   "source": [
    "# Matrix multiplication \n",
    "torch.matmul(tensor, tensor)"
   ]
  },
  {
   "cell_type": "code",
   "execution_count": 28,
   "id": "e041069a-acec-40d2-8d5e-e0c3d763d97b",
   "metadata": {},
   "outputs": [
    {
     "data": {
      "text/plain": [
       "tensor(14)"
      ]
     },
     "execution_count": 28,
     "metadata": {},
     "output_type": "execute_result"
    }
   ],
   "source": [
    "# Can also use the \"@\" symbol for matrix multiplication, though not recommended \n",
    "tensor @ tensor"
   ]
  },
  {
   "cell_type": "markdown",
   "id": "cb8930c8-68e5-4e3c-82ea-d03dfd472021",
   "metadata": {},
   "source": [
    " The in-built torch.matmul() method is faster than doing matrix multiplication by hand"
   ]
  },
  {
   "cell_type": "code",
   "execution_count": 29,
   "id": "0d78c7eb-ef1a-4fee-95a5-41ad5f30570a",
   "metadata": {},
   "outputs": [
    {
     "name": "stdout",
     "output_type": "stream",
     "text": [
      "CPU times: total: 0 ns\n",
      "Wall time: 8 ms\n"
     ]
    },
    {
     "data": {
      "text/plain": [
       "tensor(14)"
      ]
     },
     "execution_count": 29,
     "metadata": {},
     "output_type": "execute_result"
    }
   ],
   "source": [
    "%%time \n",
    "# Matrix multiplication by hand  \n",
    "# (avoid doing operations with for loops at all cost, they are computationally expensive) \n",
    "value = 0 \n",
    "for i in range(len(tensor)): \n",
    "    value += tensor[i] * tensor[i] \n",
    "value "
   ]
  },
  {
   "cell_type": "code",
   "execution_count": 30,
   "id": "203e3c33-3aef-4ffb-8fa6-5ee9efc704b6",
   "metadata": {},
   "outputs": [
    {
     "name": "stdout",
     "output_type": "stream",
     "text": [
      "CPU times: total: 0 ns\n",
      "Wall time: 1 ms\n"
     ]
    },
    {
     "data": {
      "text/plain": [
       "tensor(14)"
      ]
     },
     "execution_count": 30,
     "metadata": {},
     "output_type": "execute_result"
    }
   ],
   "source": [
    "%%time \n",
    "torch.matmul(tensor, tensor)"
   ]
  },
  {
   "cell_type": "markdown",
   "id": "1887cb71-e3a4-4ea6-8d65-78842084c7e7",
   "metadata": {},
   "source": [
    "# Getting PyTorch to run on the GPU"
   ]
  },
  {
   "cell_type": "code",
   "execution_count": 31,
   "id": "9a042303-ecd4-41fa-b80e-ba46b8815095",
   "metadata": {},
   "outputs": [
    {
     "data": {
      "text/plain": [
       "False"
      ]
     },
     "execution_count": 31,
     "metadata": {},
     "output_type": "execute_result"
    }
   ],
   "source": [
    "# You can test if PyTorch has access to a GPU using torch.cuda.is_available(). \n",
    "# Check for GPU \n",
    "torch.cuda.is_available() "
   ]
  },
  {
   "cell_type": "code",
   "execution_count": 32,
   "id": "654d7ab9-4650-4cf4-b111-16db5cb3319a",
   "metadata": {},
   "outputs": [
    {
     "data": {
      "text/plain": [
       "'cpu'"
      ]
     },
     "execution_count": 32,
     "metadata": {},
     "output_type": "execute_result"
    }
   ],
   "source": [
    "# Let's create a device variable to store what kind of device is available. \n",
    "# Set device type \n",
    "device = \"cuda\" if torch.cuda.is_available() else \"cpu\" \n",
    "device "
   ]
  },
  {
   "cell_type": "code",
   "execution_count": 33,
   "id": "69d97eb1-5ceb-406f-b545-64d591f57ab4",
   "metadata": {},
   "outputs": [
    {
     "data": {
      "text/plain": [
       "0"
      ]
     },
     "execution_count": 33,
     "metadata": {},
     "output_type": "execute_result"
    }
   ],
   "source": [
    "# Count number of devices \n",
    "torch.cuda.device_count()"
   ]
  },
  {
   "cell_type": "markdown",
   "id": "e0f9905c-c7de-490d-a973-bd6c88bcd9a7",
   "metadata": {},
   "source": [
    "## • Putting tensors (and models) on the GPU "
   ]
  },
  {
   "cell_type": "code",
   "execution_count": 34,
   "id": "735597bf-06b3-4b9f-9aa1-f7a9931af716",
   "metadata": {},
   "outputs": [
    {
     "name": "stdout",
     "output_type": "stream",
     "text": [
      "tensor([1, 2, 3]) cpu\n"
     ]
    },
    {
     "data": {
      "text/plain": [
       "tensor([1, 2, 3])"
      ]
     },
     "execution_count": 34,
     "metadata": {},
     "output_type": "execute_result"
    }
   ],
   "source": [
    "# Create tensor (default on CPU) \n",
    "tensor = torch.tensor([1, 2, 3]) \n",
    "# Tensor not on GPU \n",
    "print(tensor, tensor.device) \n",
    "# Move tensor to GPU (if available) \n",
    "tensor_on_gpu = tensor.to(device) \n",
    "tensor_on_gpu"
   ]
  },
  {
   "cell_type": "markdown",
   "id": "7949fa62-af33-45ce-97a9-dbe04ddc7ee3",
   "metadata": {},
   "source": [
    "## • Moving tensors back to the CPU"
   ]
  },
  {
   "cell_type": "code",
   "execution_count": 35,
   "id": "3e69703e-414e-4d1f-9918-16d0f5aa3e9e",
   "metadata": {},
   "outputs": [
    {
     "data": {
      "text/plain": [
       "array([1, 2, 3])"
      ]
     },
     "execution_count": 35,
     "metadata": {},
     "output_type": "execute_result"
    }
   ],
   "source": [
    "# If tensor is on GPU, can't transform it to NumPy (this will error) \n",
    "tensor_on_gpu.numpy()"
   ]
  },
  {
   "cell_type": "code",
   "execution_count": 36,
   "id": "64efca44-d6fd-40db-b5bb-ec366bd81edc",
   "metadata": {},
   "outputs": [
    {
     "data": {
      "text/plain": [
       "array([1, 2, 3])"
      ]
     },
     "execution_count": 36,
     "metadata": {},
     "output_type": "execute_result"
    }
   ],
   "source": [
    "# Instead, copy the tensor back to cpu \n",
    "tensor_back_on_cpu = tensor_on_gpu.cpu().numpy() \n",
    "tensor_back_on_cpu"
   ]
  },
  {
   "cell_type": "code",
   "execution_count": null,
   "id": "3f3636b8-4525-4503-af59-8414fb9f63bf",
   "metadata": {},
   "outputs": [],
   "source": []
  }
 ],
 "metadata": {
  "kernelspec": {
   "display_name": "Python 3 (ipykernel)",
   "language": "python",
   "name": "python3"
  },
  "language_info": {
   "codemirror_mode": {
    "name": "ipython",
    "version": 3
   },
   "file_extension": ".py",
   "mimetype": "text/x-python",
   "name": "python",
   "nbconvert_exporter": "python",
   "pygments_lexer": "ipython3",
   "version": "3.12.7"
  }
 },
 "nbformat": 4,
 "nbformat_minor": 5
}
