{
 "cells": [
  {
   "cell_type": "code",
   "execution_count": 1,
   "id": "a4d4cef3-6c72-4f11-8e08-4d439fcfd8ea",
   "metadata": {},
   "outputs": [],
   "source": [
    "import torch\n",
    "import numpy as np"
   ]
  },
  {
   "cell_type": "markdown",
   "id": "6bc27623-4ac7-4c83-896d-9106032c2433",
   "metadata": {},
   "source": [
    "# 1. Illustrating the functions for Reshaping, Viewing, Stacking, Squeezing, and Unsqueezing of tensors"
   ]
  },
  {
   "cell_type": "code",
   "execution_count": 2,
   "id": "eaf69668-0a39-45c0-85d4-596ac3f33239",
   "metadata": {},
   "outputs": [
    {
     "name": "stdout",
     "output_type": "stream",
     "text": [
      "Original Tensor:\n",
      "tensor([[ 0,  1,  2,  3],\n",
      "        [ 4,  5,  6,  7],\n",
      "        [ 8,  9, 10, 11]])\n",
      "\n",
      "Reshaped Tensor:\n",
      "tensor([[ 0,  1,  2,  3,  4,  5],\n",
      "        [ 6,  7,  8,  9, 10, 11]])\n",
      "\n",
      "Stacked Tensor (dim=0):\n",
      "tensor([[1, 2, 3],\n",
      "        [4, 5, 6]])\n",
      "\n",
      "Tensor after unsqueeze:\n",
      "tensor([[1, 2, 3]])\n",
      "\n",
      "Tensor after squeeze:\n",
      "tensor([1, 2, 3])\n",
      "\n",
      "Tensor after unsqueeze:\n",
      "tensor([[1, 2, 3]])\n",
      "\n"
     ]
    }
   ],
   "source": [
    "# Create a tensor\n",
    "tensor = torch.arange(0, 12).reshape(3, 4)\n",
    "print(f\"Original Tensor:\\n{tensor}\\n\")\n",
    "\n",
    "# Reshape: Change shape to (2, 6)\n",
    "reshaped_tensor = tensor.view(2, 6)\n",
    "print(f\"Reshaped Tensor:\\n{reshaped_tensor}\\n\")\n",
    "\n",
    "# Stacking: Stack tensors along a new dimension (dim=0 for stacking along rows)\n",
    "tensor1 = torch.tensor([1, 2, 3])\n",
    "tensor2 = torch.tensor([4, 5, 6])\n",
    "stacked_tensor = torch.stack([tensor1, tensor2], dim=0)\n",
    "print(f\"Stacked Tensor (dim=0):\\n{stacked_tensor}\\n\")\n",
    "\n",
    "# Squeeze: Remove dimensions with size 1\n",
    "squeezed_tensor = tensor1.unsqueeze(0)  # Adds a dimension\n",
    "print(f\"Tensor after unsqueeze:\\n{squeezed_tensor}\\n\")\n",
    "squeezed_tensor = squeezed_tensor.squeeze()  # Removes the added dimension\n",
    "print(f\"Tensor after squeeze:\\n{squeezed_tensor}\\n\")\n",
    "\n",
    "# Unsqueeze: Add a new dimension (e.g., at the 0th axis)\n",
    "unsqueezed_tensor = tensor1.unsqueeze(0)\n",
    "print(f\"Tensor after unsqueeze:\\n{unsqueezed_tensor}\\n\")"
   ]
  },
  {
   "cell_type": "markdown",
   "id": "0562e492-db04-4dd7-841e-8c84d6179d9d",
   "metadata": {},
   "source": [
    "# 2. Illustrate the use of torch.permute()"
   ]
  },
  {
   "cell_type": "code",
   "execution_count": 3,
   "id": "7991f67f-64e3-4cc2-8114-a17eb45f4c1a",
   "metadata": {},
   "outputs": [
    {
     "name": "stdout",
     "output_type": "stream",
     "text": [
      "Permuted Tensor (shape torch.Size([2, 3, 4]) -> torch.Size([4, 2, 3])):\n",
      "tensor([[[ 4.1651e-01, -4.2805e-01,  4.4748e-01],\n",
      "         [-5.7497e-04,  1.7816e+00, -8.9786e-01]],\n",
      "\n",
      "        [[-4.1270e-01, -2.4909e-01,  1.9518e-01],\n",
      "         [ 1.0884e+00,  1.6772e+00,  6.2162e-01]],\n",
      "\n",
      "        [[-6.7425e-01,  2.2423e-01, -7.0681e-01],\n",
      "         [-9.4926e-01,  7.5425e-01,  8.1327e-01]],\n",
      "\n",
      "        [[ 1.4910e+00, -1.9471e+00,  5.2051e-02],\n",
      "         [-2.1864e+00, -9.7201e-01, -7.8740e-01]]])\n",
      "\n"
     ]
    }
   ],
   "source": [
    "# Permute the tensor to rearrange its dimensions\n",
    "tensor = torch.randn(2, 3, 4)\n",
    "permuted_tensor = tensor.permute(2, 0, 1)  # Changing the dimension order\n",
    "print(f\"Permuted Tensor (shape {tensor.shape} -> {permuted_tensor.shape}):\\n{permuted_tensor}\\n\")"
   ]
  },
  {
   "cell_type": "markdown",
   "id": "b46b4945-daa6-4a7c-bae9-616fcde05b75",
   "metadata": {},
   "source": [
    "# 3. Illustrating indexing in tensors"
   ]
  },
  {
   "cell_type": "code",
   "execution_count": 4,
   "id": "3672a91a-9557-44f9-a134-f8acab5f12f1",
   "metadata": {},
   "outputs": [
    {
     "name": "stdout",
     "output_type": "stream",
     "text": [
      "Original Tensor:\n",
      "tensor([[ 0.6128,  0.5297,  1.3399, -0.3043, -0.5171],\n",
      "        [ 0.0146, -0.9525,  0.1967, -0.2394,  1.6823],\n",
      "        [ 0.0276,  0.0894, -0.6846,  0.4375,  1.3078],\n",
      "        [ 1.3534,  0.3043, -1.4005, -1.1104, -1.8180]])\n",
      "\n",
      "Element at (2, 3): 0.4374532699584961\n",
      "First row:\n",
      "tensor([ 0.6128,  0.5297,  1.3399, -0.3043, -0.5171])\n",
      "First column:\n",
      "tensor([0.6128, 0.0146, 0.0276, 1.3534])\n"
     ]
    }
   ],
   "source": [
    "# Indexing like NumPy for tensors\n",
    "tensor = torch.randn(4, 5)\n",
    "print(f\"Original Tensor:\\n{tensor}\\n\")\n",
    "\n",
    "# Indexing with integers\n",
    "print(f\"Element at (2, 3): {tensor[2, 3]}\")\n",
    "\n",
    "# Slicing: Selecting rows and columns\n",
    "print(f\"First row:\\n{tensor[0]}\")\n",
    "print(f\"First column:\\n{tensor[:, 0]}\")"
   ]
  },
  {
   "cell_type": "markdown",
   "id": "6ffb2bdb-9afe-46ad-be8c-6cde1f8c2f4d",
   "metadata": {},
   "source": [
    "# 4. Convert NumPy arrays to tensors and back to NumPy arrays"
   ]
  },
  {
   "cell_type": "code",
   "execution_count": 5,
   "id": "cd5abd0b-951a-4c6f-b164-024c2c23e94e",
   "metadata": {},
   "outputs": [
    {
     "name": "stdout",
     "output_type": "stream",
     "text": [
      "NumPy Array:\n",
      "[[1 2 3]\n",
      " [4 5 6]]\n",
      "\n",
      "Tensor from NumPy array:\n",
      "tensor([[1, 2, 3],\n",
      "        [4, 5, 6]])\n",
      "\n",
      "Back to NumPy Array:\n",
      "[[1 2 3]\n",
      " [4 5 6]]\n",
      "\n"
     ]
    }
   ],
   "source": [
    "# NumPy array\n",
    "np_array = np.array([[1, 2, 3], [4, 5, 6]])\n",
    "print(f\"NumPy Array:\\n{np_array}\\n\")\n",
    "\n",
    "# Convert to tensor\n",
    "tensor_from_np = torch.from_numpy(np_array)\n",
    "print(f\"Tensor from NumPy array:\\n{tensor_from_np}\\n\")\n",
    "\n",
    "# Convert back to NumPy array\n",
    "np_from_tensor = tensor_from_np.numpy()\n",
    "print(f\"Back to NumPy Array:\\n{np_from_tensor}\\n\")"
   ]
  },
  {
   "cell_type": "markdown",
   "id": "23a7f798-3b2e-4109-b6e1-1d5766708e69",
   "metadata": {},
   "source": [
    "# 5. Create a random tensor with shape (7, 7)"
   ]
  },
  {
   "cell_type": "code",
   "execution_count": 6,
   "id": "c06122a9-f943-4773-adb0-47fd150b9054",
   "metadata": {},
   "outputs": [
    {
     "name": "stdout",
     "output_type": "stream",
     "text": [
      "Random Tensor (7x7):\n",
      "tensor([[ 2.2529,  0.5792,  0.2023,  0.2131,  0.0702,  1.2424,  0.5509],\n",
      "        [-1.2857, -1.7647,  0.1428, -1.8264, -1.3980,  2.5269, -0.3494],\n",
      "        [-1.2335,  0.8831, -1.0873,  0.3449, -0.1455,  0.2494,  1.2583],\n",
      "        [ 1.2268,  0.1809,  0.3914,  0.1032,  0.3926, -1.5105,  0.0091],\n",
      "        [-0.5754,  0.7066, -1.0438, -0.4915, -0.7921, -0.0456,  1.1955],\n",
      "        [ 1.3387,  1.4668,  1.1827,  0.1575, -0.8039, -1.2712,  0.1506],\n",
      "        [ 0.4267, -0.7522,  0.0394,  0.2061,  1.2384,  1.2230,  0.8108]])\n",
      "\n"
     ]
    }
   ],
   "source": [
    "random_tensor_7x7 = torch.randn(7, 7)\n",
    "print(f\"Random Tensor (7x7):\\n{random_tensor_7x7}\\n\")"
   ]
  },
  {
   "cell_type": "markdown",
   "id": "5fe22134-7d75-4b47-8fb0-bbe97f0a9dba",
   "metadata": {},
   "source": [
    "# 6. Matrix multiplication (hint: transpose the second tensor)"
   ]
  },
  {
   "cell_type": "code",
   "execution_count": 7,
   "id": "2c86eba2-18ac-488f-8cda-2cc3757afda3",
   "metadata": {},
   "outputs": [
    {
     "name": "stdout",
     "output_type": "stream",
     "text": [
      "Tensor (1x7):\n",
      "tensor([[ 1.2972,  2.6236, -0.7863,  1.2377,  0.0326,  1.1760,  0.9775]])\n",
      "\n",
      "Matrix Multiplication Result:\n",
      "tensor([[ 6.5489],\n",
      "        [-6.0860],\n",
      "        [ 3.5174],\n",
      "        [ 0.1311],\n",
      "        [ 2.4093],\n",
      "        [ 3.4760],\n",
      "        [ 1.0755]])\n",
      "\n"
     ]
    }
   ],
   "source": [
    "random_tensor_1x7 = torch.randn(1, 7)\n",
    "print(f\"Tensor (1x7):\\n{random_tensor_1x7}\\n\")\n",
    "\n",
    "# Matrix multiplication (transposing the second tensor)\n",
    "result = torch.matmul(random_tensor_7x7, random_tensor_1x7.t())\n",
    "print(f\"Matrix Multiplication Result:\\n{result}\\n\")"
   ]
  },
  {
   "cell_type": "markdown",
   "id": "516de478-e2ff-4a4d-80e9-e3ac2ab2071c",
   "metadata": {},
   "source": [
    "# 7. Create two random tensors of shape (2, 3) and send them to the GPU (if available)"
   ]
  },
  {
   "cell_type": "code",
   "execution_count": 8,
   "id": "6ad9b53e-81cc-42c1-a16b-3719989c9377",
   "metadata": {},
   "outputs": [
    {
     "name": "stdout",
     "output_type": "stream",
     "text": [
      "Tensor A (GPU):\n",
      "tensor([[-0.8544, -1.0040, -0.5155],\n",
      "        [-0.3867, -0.3859,  0.2907]])\n",
      "\n",
      "Tensor B (GPU):\n",
      "tensor([[-1.4701, -0.8540,  0.4091],\n",
      "        [ 1.0798,  0.2994,  0.1801]])\n",
      "\n"
     ]
    }
   ],
   "source": [
    "device = torch.device('cuda' if torch.cuda.is_available() else 'cpu')\n",
    "tensor_a = torch.randn(2, 3).to(device)\n",
    "tensor_b = torch.randn(2, 3).to(device)\n",
    "print(f\"Tensor A (GPU):\\n{tensor_a}\\n\")\n",
    "print(f\"Tensor B (GPU):\\n{tensor_b}\\n\")"
   ]
  },
  {
   "cell_type": "markdown",
   "id": "36dc7c1f-b388-4778-a9f9-b4de2e533bb3",
   "metadata": {},
   "source": [
    "# 8. Matrix multiplication on the tensors (adjust shapes if needed)"
   ]
  },
  {
   "cell_type": "code",
   "execution_count": 9,
   "id": "a1ec2ee3-a42e-43a7-96c6-c56ab54bab7c",
   "metadata": {},
   "outputs": [
    {
     "name": "stdout",
     "output_type": "stream",
     "text": [
      "Matrix Multiplication Result on GPU:\n",
      "tensor([[ 1.9026, -1.3160],\n",
      "        [ 1.0169, -0.4807]])\n",
      "\n"
     ]
    }
   ],
   "source": [
    "result_gpu = torch.matmul(tensor_a, tensor_b.t())\n",
    "print(f\"Matrix Multiplication Result on GPU:\\n{result_gpu}\\n\")"
   ]
  },
  {
   "cell_type": "markdown",
   "id": "ef259d42-d682-4e31-9cc9-5f5e0914cd14",
   "metadata": {},
   "source": [
    "# 9. Find the maximum and minimum values of the output of step 7"
   ]
  },
  {
   "cell_type": "code",
   "execution_count": 10,
   "id": "12a0d5e3-9e4a-4719-ad2f-127465f74766",
   "metadata": {},
   "outputs": [
    {
     "name": "stdout",
     "output_type": "stream",
     "text": [
      "Max value: 1.902587652206421\n",
      "Min value: -1.316036581993103\n"
     ]
    }
   ],
   "source": [
    "max_val = result_gpu.max()\n",
    "min_val = result_gpu.min()\n",
    "print(f\"Max value: {max_val}\")\n",
    "print(f\"Min value: {min_val}\")"
   ]
  },
  {
   "cell_type": "markdown",
   "id": "bbf78e62-40fd-4f4c-9bda-7b5cbc376744",
   "metadata": {},
   "source": [
    "# 10. Find the maximum and minimum index values of the output of step 7"
   ]
  },
  {
   "cell_type": "code",
   "execution_count": 11,
   "id": "806bd267-8f95-49f3-89af-355196bb0c8e",
   "metadata": {},
   "outputs": [
    {
     "name": "stdout",
     "output_type": "stream",
     "text": [
      "Max Index: 0\n",
      "Min Index: 1\n"
     ]
    }
   ],
   "source": [
    "max_idx = result_gpu.argmax()\n",
    "min_idx = result_gpu.argmin()\n",
    "print(f\"Max Index: {max_idx}\")\n",
    "print(f\"Min Index: {min_idx}\")"
   ]
  },
  {
   "cell_type": "markdown",
   "id": "d64a97b1-a207-441e-8ef2-6f1cb1021bf5",
   "metadata": {},
   "source": [
    "# 11. Create a random tensor with shape (1, 1, 1, 10) and remove 1-dimensional entries"
   ]
  },
  {
   "cell_type": "code",
   "execution_count": 12,
   "id": "552ac33c-8c8c-4497-8fb7-4b87d373ea8c",
   "metadata": {},
   "outputs": [
    {
     "name": "stdout",
     "output_type": "stream",
     "text": [
      "Tensor with shape (1, 1, 1, 10):\n",
      "tensor([[[[-0.1468,  0.7861,  0.9468, -1.1143,  1.6908, -0.8948, -0.3556,\n",
      "            1.2324,  0.1382, -1.6822]]]])\n",
      "\n",
      "Tensor after squeeze (shape (10)):\n",
      "tensor([-0.1468,  0.7861,  0.9468, -1.1143,  1.6908, -0.8948, -0.3556,  1.2324,\n",
      "         0.1382, -1.6822])\n",
      "\n"
     ]
    }
   ],
   "source": [
    "torch.manual_seed(7)  # Set seed for reproducibility\n",
    "tensor_1x1x1x10 = torch.randn(1, 1, 1, 10)\n",
    "print(f\"Tensor with shape (1, 1, 1, 10):\\n{tensor_1x1x1x10}\\n\")\n",
    "tensor_10 = tensor_1x1x1x10.squeeze()\n",
    "print(f\"Tensor after squeeze (shape (10)):\\n{tensor_10}\\n\")"
   ]
  },
  {
   "cell_type": "code",
   "execution_count": null,
   "id": "4c554643-130a-4011-9a7d-3a76765711f6",
   "metadata": {},
   "outputs": [],
   "source": []
  }
 ],
 "metadata": {
  "kernelspec": {
   "display_name": "Python 3 (ipykernel)",
   "language": "python",
   "name": "python3"
  },
  "language_info": {
   "codemirror_mode": {
    "name": "ipython",
    "version": 3
   },
   "file_extension": ".py",
   "mimetype": "text/x-python",
   "name": "python",
   "nbconvert_exporter": "python",
   "pygments_lexer": "ipython3",
   "version": "3.12.7"
  }
 },
 "nbformat": 4,
 "nbformat_minor": 5
}
